{
 "cells": [
  {
   "cell_type": "code",
   "execution_count": 32,
   "metadata": {},
   "outputs": [
    {
     "name": "stdout",
     "output_type": "stream",
     "text": [
      "10\n"
     ]
    }
   ],
   "source": [
    "import math\n",
    "def BinarySearch(a,b,start,end):\n",
    "    if start>end:\n",
    "        return -1\n",
    "    mid=start+math.floor(len(a[start:end])/2)\n",
    "    if a[mid]==b:\n",
    "        return mid\n",
    "    if a[mid]>b:\n",
    "        c=BinarySearch(a,b,start,mid-1)\n",
    "    else:\n",
    "        c=BinarySearch(a,b,mid+1,end)\n",
    "    return c\n",
    "print(BinarySearch(range(11),10,0,10))  \n"
   ]
  },
  {
   "cell_type": "code",
   "execution_count": 61,
   "metadata": {},
   "outputs": [
    {
     "name": "stdout",
     "output_type": "stream",
     "text": [
      "[2, 3, 5, 7, -1, 11, 13, -1, 17, 19, -1, 23, -1, -1, 29, 31, -1, -1, 37, -1, 41, 43, -1, 47, -1, -1, 53, -1, -1, 59, 61, -1, -1, 67, -1, 71, 73, -1, -1, 79, -1, 83, -1, -1, 89, -1, -1, -1, 97, -1]\n"
     ]
    }
   ],
   "source": [
    "import math\n",
    "def Sieve(n):\n",
    "    a=list(range(3,n+1,2))\n",
    "    b=math.floor(math.sqrt(n))   \n",
    "    for i in a:\n",
    "        for j in range(i*i,n+1,2*i):\n",
    "            a[math.floor(j/2)-1]=-1\n",
    "    return a\n",
    "\n",
    "b=Sieve(100)\n",
    "b.insert(0,2)\n",
    "print(b)"
   ]
  },
  {
   "cell_type": "code",
   "execution_count": 80,
   "metadata": {},
   "outputs": [
    {
     "name": "stdout",
     "output_type": "stream",
     "text": [
      "5\n"
     ]
    }
   ],
   "source": [
    "def LIS(a):\n",
    "    n=len(a)\n",
    "    tempmax=0\n",
    "    b=[1]*n\n",
    "    for i in range(n):\n",
    "        for j in range(i+1,n):\n",
    "            if a[j]>a[i]:\n",
    "                b[j]=max(1+b[i],b[j])\n",
    "                if b[j]>tempmax:\n",
    "                    tempmax=b[j]\n",
    "    \n",
    "    return tempmax            \n",
    "print(LIS([1,3,2,4,6,8]))"
   ]
  },
  {
   "cell_type": "code",
   "execution_count": 105,
   "metadata": {},
   "outputs": [
    {
     "name": "stdout",
     "output_type": "stream",
     "text": [
      "[4]\n",
      "[]\n",
      "0\n"
     ]
    }
   ],
   "source": [
    "def pop(a):\n",
    "    if(len(a)!=0):\n",
    "        a.pop()\n",
    "def push_back(a,n):\n",
    "    a.insert(len(a),n)\n",
    "def top():\n",
    "    return a[-1]\n",
    "def size(a):\n",
    "    return len(a)\n",
    "a=[]\n",
    "push_back(a,4)\n",
    "print(a)\n",
    "pop(a)\n",
    "print(a)\n",
    "print(size(a))\n"
   ]
  },
  {
   "cell_type": "code",
   "execution_count": 93,
   "metadata": {
    "collapsed": true
   },
   "outputs": [],
   "source": []
  }
 ],
 "metadata": {
  "kernelspec": {
   "display_name": "Python 3",
   "language": "python",
   "name": "python3"
  },
  "language_info": {
   "codemirror_mode": {
    "name": "ipython",
    "version": 3
   },
   "file_extension": ".py",
   "mimetype": "text/x-python",
   "name": "python",
   "nbconvert_exporter": "python",
   "pygments_lexer": "ipython3",
   "version": "3.5.2"
  }
 },
 "nbformat": 4,
 "nbformat_minor": 2
}
