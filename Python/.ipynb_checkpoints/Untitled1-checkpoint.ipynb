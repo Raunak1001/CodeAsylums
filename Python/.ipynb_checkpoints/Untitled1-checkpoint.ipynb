{
 "cells": [
  {
   "cell_type": "code",
   "execution_count": 2,
   "metadata": {
    "scrolled": true
   },
   "outputs": [
    {
     "name": "stdout",
     "output_type": "stream",
     "text": [
      "[[0, 0, 0, 0, 0, 0, 0, 0], [0, 1, 1, 1, 1, 1, 1, 1], [0, 0, 0, 3, 4, 4, 4, 4], [0, 0, 0, 0, 5, 5, 5, 8], [0, 0, 0, 0, 0, 0, 0, 8]]\n"
     ]
    }
   ],
   "source": [
    "def Knapsack(a,b,c):\n",
    "    n=len(a)\n",
    "    v=[[0] *(c+1) for i in range(n+1)] \n",
    "    for i in range(1,n+1):\n",
    "        for j in range(1,c+1):\n",
    "            if a[i-1]<=j:\n",
    "                v[i][j]=max(v[i-1][j],b[i-1]+v[i-1][j-a[i-1]])\n",
    "    return v                        \n",
    "print(Knapsack([1,3,4,7],[1,3,5,7],7))"
   ]
  },
  {
   "cell_type": "code",
   "execution_count": null,
   "metadata": {
    "collapsed": true
   },
   "outputs": [],
   "source": [
    "def pas(n):\n",
    "    v=[[0] *(2*n+1) for i in range(n)]\n",
    "    for i in range(n):\n",
    "        if i==0:\n",
    "            a[0][1]=1\n",
    "            continue\n",
    "        for j in range(2*i+1):\n",
    "            v[i][j]=v[i-1]\n",
    "            "
   ]
  }
 ],
 "metadata": {
  "kernelspec": {
   "display_name": "Python 3",
   "language": "python",
   "name": "python3"
  },
  "language_info": {
   "codemirror_mode": {
    "name": "ipython",
    "version": 3
   },
   "file_extension": ".py",
   "mimetype": "text/x-python",
   "name": "python",
   "nbconvert_exporter": "python",
   "pygments_lexer": "ipython3",
   "version": "3.5.2"
  }
 },
 "nbformat": 4,
 "nbformat_minor": 2
}
