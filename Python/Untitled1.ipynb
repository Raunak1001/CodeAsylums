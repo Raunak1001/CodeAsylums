{
 "cells": [
  {
   "cell_type": "code",
   "execution_count": 2,
   "metadata": {
    "scrolled": true
   },
   "outputs": [
    {
     "name": "stdout",
     "output_type": "stream",
     "text": [
      "[[0, 0, 0, 0, 0, 0, 0, 0], [0, 1, 1, 1, 1, 1, 1, 1], [0, 0, 0, 3, 4, 4, 4, 4], [0, 0, 0, 0, 5, 5, 5, 8], [0, 0, 0, 0, 0, 0, 0, 8]]\n"
     ]
    }
   ],
   "source": [
    "def Knapsack(a,b,c):\n",
    "    n=len(a)\n",
    "    v=[[0] *(c+1) for i in range(n+1)] \n",
    "    for i in range(1,n+1):\n",
    "        for j in range(1,c+1):\n",
    "            if a[i-1]<=j:\n",
    "                v[i][j]=max(v[i-1][j],b[i-1]+v[i-1][j-a[i-1]])\n",
    "    return v                        \n",
    "print(Knapsack([1,3,4,7],[1,3,5,7],7))"
   ]
  },
  {
   "cell_type": "code",
   "execution_count": 4,
   "metadata": {},
   "outputs": [
    {
     "name": "stdout",
     "output_type": "stream",
     "text": [
      "[0, 1, 2, 3, 4, 5, 6, 7, 8, 9]\n"
     ]
    }
   ],
   "source": [
    "print([i for i in range(10)])"
   ]
  },
  {
   "cell_type": "code",
   "execution_count": 13,
   "metadata": {
    "collapsed": true
   },
   "outputs": [],
   "source": [
    "def PrimeGenerator():\n",
    "    i=2\n",
    "    yield i\n",
    "    while(1):\n",
    "        temp=0\n",
    "        for j in range(2,i+1):\n",
    "            if(i%j==0):\n",
    "                temp=1\n",
    "                break\n",
    "        if temp!=1:\n",
    "            yield i\n",
    "        i=i+1;\n",
    "     "
   ]
  },
  {
   "cell_type": "code",
   "execution_count": 42,
   "metadata": {},
   "outputs": [],
   "source": [
    "def Capital(a):\n",
    "    if a!=' ':\n",
    "        return a*2\n",
    "    else:\n",
    "        return ' '"
   ]
  },
  {
   "cell_type": "code",
   "execution_count": 32,
   "metadata": {},
   "outputs": [
    {
     "name": "stdout",
     "output_type": "stream",
     "text": [
      "LLoorreemm IIppssuumm iiss ssiimmppllyy dduummmmyy tteexxtt ooff tthhee pprriinnttiinngg aanndd ttyyppeesseettttiinngg iinndduussttrryy.. LLoorreemm IIppssuumm hhaass bbeeeenn tthhee iinndduussttrryy''ss ssttaannddaarrdd dduummmmyy tteexxtt eevveerr ssiinnccee tthhee 11550000ss,, wwhheenn aann uunnkknnoowwnn pprriinntteerr ttooookk aa ggaalllleeyy ooff ttyyppee aanndd ssccrraammbblleedd iitt ttoo mmaakkee aa ttyyppee ssppeecciimmeenn bbooookk.. IItt hhaass ssuurrvviivveedd nnoott oonnllyy ffiivvee cceennttuurriieess,, bbuutt aallssoo tthhee lleeaapp iinnttoo eelleeccttrroonniicc ttyyppeesseettttiinngg,, rreemmaaiinniinngg eesssseennttiiaallllyy uunncchhaannggeedd.. IItt wwaass ppooppuullaarriisseedd iinn tthhee 11996600ss wwiitthh tthhee rreelleeaassee ooff LLeettrraasseett sshheeeettss ccoonnttaaiinniinngg LLoorreemm IIppssuumm ppaassssaaggeess,, aanndd mmoorree rreecceennttllyy wwiitthh ddeesskkttoopp ppuubblliisshhiinngg ssooffttwwaarree lliikkee AAlldduuss PPaaggeeMMaakkeerr iinncclluuddiinngg vveerrssiioonnss ooff LLoorreemm IIppssuumm.."
     ]
    }
   ],
   "source": [
    "for i in map(Capital,\"Lorem Ipsum is simply dummy text of the printing and typesetting industry. Lorem Ipsum has been the industry's standard dummy text ever since the 1500s, when an unknown printer took a galley of type and scrambled it to make a type specimen book. It has survived not only five centuries, but also the leap into electronic typesetting, remaining essentially unchanged. It was popularised in the 1960s with the release of Letraset sheets containing Lorem Ipsum passages, and more recently with desktop publishing software like Aldus PageMaker including versions of Lorem Ipsum.\"):\n",
    "    print (i,end=\"\")"
   ]
  },
  {
   "cell_type": "code",
   "execution_count": 36,
   "metadata": {
    "collapsed": true
   },
   "outputs": [],
   "source": [
    "from functools import reduce"
   ]
  },
  {
   "cell_type": "code",
   "execution_count": 43,
   "metadata": {},
   "outputs": [
    {
     "data": {
      "text/plain": [
       "3.0625"
      ]
     },
     "execution_count": 43,
     "metadata": {},
     "output_type": "execute_result"
    }
   ],
   "source": [
    "reduce(lambda x,y:(x+y)/2,list(range(5)))"
   ]
  },
  {
   "cell_type": "code",
   "execution_count": null,
   "metadata": {
    "collapsed": true
   },
   "outputs": [],
   "source": []
  }
 ],
 "metadata": {
  "kernelspec": {
   "display_name": "Python 3",
   "language": "python",
   "name": "python3"
  },
  "language_info": {
   "codemirror_mode": {
    "name": "ipython",
    "version": 3
   },
   "file_extension": ".py",
   "mimetype": "text/x-python",
   "name": "python",
   "nbconvert_exporter": "python",
   "pygments_lexer": "ipython3",
   "version": "3.5.2"
  }
 },
 "nbformat": 4,
 "nbformat_minor": 2
}
