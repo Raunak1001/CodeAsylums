{
 "cells": [
  {
   "cell_type": "code",
   "execution_count": 21,
   "metadata": {},
   "outputs": [],
   "source": [
    "class Person:\n",
    "    def __init__(self,*args):\n",
    "        self.name=args[0]\n",
    "        self.age=args[1]\n",
    "        self.cgpa=args[2]\n",
    "        self.percentile=args[3]\n",
    "        \n",
    "    @property\n",
    "    def getGrade(self):\n",
    "        if self.percentile>80:\n",
    "            return 'A'\n",
    "        elif self.percentile>70:\n",
    "            return 'B'\n",
    "        elif self.percentile>60:\n",
    "            return 'C'\n",
    "        elif self.percentile>50:\n",
    "            return 'D'\n",
    "        elif self.percentile>40:\n",
    "            return 'F'\n",
    "        "
   ]
  },
  {
   "cell_type": "code",
   "execution_count": 26,
   "metadata": {},
   "outputs": [
    {
     "data": {
      "text/plain": [
       "85"
      ]
     },
     "execution_count": 26,
     "metadata": {},
     "output_type": "execute_result"
    }
   ],
   "source": [
    "Test.get"
   ]
  },
  {
   "cell_type": "code",
   "execution_count": 27,
   "metadata": {},
   "outputs": [
    {
     "data": {
      "text/plain": [
       "'A'"
      ]
     },
     "execution_count": 27,
     "metadata": {},
     "output_type": "execute_result"
    }
   ],
   "source": [
    "Test=Person('abc',22,8,85)\n",
    "Test.getGrade"
   ]
  }
 ],
 "metadata": {
  "kernelspec": {
   "display_name": "Python 3",
   "language": "python",
   "name": "python3"
  },
  "language_info": {
   "codemirror_mode": {
    "name": "ipython",
    "version": 3
   },
   "file_extension": ".py",
   "mimetype": "text/x-python",
   "name": "python",
   "nbconvert_exporter": "python",
   "pygments_lexer": "ipython3",
   "version": "3.5.2"
  }
 },
 "nbformat": 4,
 "nbformat_minor": 2
}
